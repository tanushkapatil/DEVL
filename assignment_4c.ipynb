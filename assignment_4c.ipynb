{
  "nbformat": 4,
  "nbformat_minor": 0,
  "metadata": {
    "colab": {
      "provenance": [],
      "mount_file_id": "15zUhQDRkl4fbcD-xhJ4OfN1h5Cao_fBw",
      "authorship_tag": "ABX9TyPermkX5jR1ev5mbihFcGWb",
      "include_colab_link": true
    },
    "kernelspec": {
      "name": "python3",
      "display_name": "Python 3"
    },
    "language_info": {
      "name": "python"
    }
  },
  "cells": [
    {
      "cell_type": "markdown",
      "metadata": {
        "id": "view-in-github",
        "colab_type": "text"
      },
      "source": [
        "<a href=\"https://colab.research.google.com/github/tanushkapatil/DEVL/blob/main/assignment_4c.ipynb\" target=\"_parent\"><img src=\"https://colab.research.google.com/assets/colab-badge.svg\" alt=\"Open In Colab\"/></a>"
      ]
    },
    {
      "cell_type": "code",
      "execution_count": null,
      "metadata": {
        "id": "Dj4MxigJ6By1",
        "colab": {
          "base_uri": "https://localhost:8080/"
        },
        "outputId": "f48a150e-0215-431f-a72b-9683ce80cbbb"
      },
      "outputs": [
        {
          "output_type": "stream",
          "name": "stdout",
          "text": [
            "      ID    Store CrustDescription        Topping  Diameter\n",
            "0      1  Dominos      ThinNCrispy        Supreme     29.40\n",
            "1      2  Dominos      ThinNCrispy  BBQMeatlovers     29.63\n",
            "2      3  Dominos          DeepPan       Hawaiian     27.06\n",
            "3      4  Dominos      ThinNCrispy        Supreme     27.45\n",
            "4      5  Dominos     ClassicCrust       Hawaiian     26.59\n",
            "..   ...      ...              ...            ...       ...\n",
            "245  248  Dominos      ThinNCrispy        Supreme     28.84\n",
            "246  249  Dominos          DeepPan  BBQMeatlovers     26.36\n",
            "247  250  Dominos          DeepPan       Hawaiian     26.11\n",
            "248  251  Dominos      ThinNCrispy  BBQMeatlovers     29.14\n",
            "249  252  Dominos     ClassicCrust        Supreme     26.71\n",
            "\n",
            "[250 rows x 5 columns]\n"
          ]
        }
      ],
      "source": [
        "# Importing the required libraries\n",
        "from scipy.stats import ttest_1samp\n",
        "import numpy as np\n",
        "import pandas as pd\n",
        "\n",
        "df = pd.read_csv('pizzasize.csv')\n",
        "print(df)"
      ]
    },
    {
      "cell_type": "code",
      "source": [
        "import pandas as pd\n",
        "from scipy.stats import shapiro\n",
        "\n",
        "# Load the CSV file into a DataFrame\n",
        "df = pd.read_csv(\"pizzasize.csv\")\n",
        "\n",
        "# Display the first 10 rows of the DataFrame\n",
        "print(df.head(10))\n",
        "print('------------------------------------------')"
      ],
      "metadata": {
        "id": "cdjrNGZP6TpH",
        "colab": {
          "base_uri": "https://localhost:8080/"
        },
        "outputId": "e8a0cd3f-7f1d-4c09-fd56-64abf2bc01fc"
      },
      "execution_count": null,
      "outputs": [
        {
          "output_type": "stream",
          "name": "stdout",
          "text": [
            "   ID      Store CrustDescription        Topping  Diameter\n",
            "0   1    Dominos      ThinNCrispy        Supreme     29.40\n",
            "1   2    Dominos      ThinNCrispy  BBQMeatlovers     29.63\n",
            "2   3    Dominos          DeepPan       Hawaiian     27.06\n",
            "3   4    Dominos      ThinNCrispy        Supreme     27.45\n",
            "4   5    Dominos     ClassicCrust       Hawaiian     26.59\n",
            "5   6    Dominos          DeepPan  BBQMeatlovers     27.16\n",
            "6   7  EagleBoys         MidCrust   SuperSupremo     29.15\n",
            "7   8  EagleBoys          DeepPan       Hawaiian     28.78\n",
            "8   9  EagleBoys        ThinCrust  BBQMeatlovers     30.05\n",
            "9  10  EagleBoys          DeepPan  BBQMeatlovers     29.38\n",
            "------------------------------------------\n"
          ]
        }
      ]
    },
    {
      "cell_type": "code",
      "source": [
        "# Hypotheses\n",
        "H0 = \"Data is normal\"\n",
        "Ha = \"Data is not normal\"\n",
        "\n",
        "alpha = 0.05\n",
        "\n",
        "# Perform the Shapiro-Wilk test on a numeric column, for example, 'Size'\n",
        "# Replace 'Size' with the actual numeric column name from your DataFrame\n",
        "if 'Diameter' in df.columns:\n",
        "    p = round(shapiro(df['Diameter'])[1], 2)\n",
        "\n",
        "    print(\"p:\", p)\n",
        "    print('------------------------------------------')\n",
        "\n",
        "    # Decision based on the p-value\n",
        "    if p > alpha:\n",
        "        print(\"We fail to reject the Null Hypothesis: The data is normal.\")\n",
        "    else:\n",
        "        print(\"We reject the Null Hypothesis: The data is not normal.\")\n",
        "else:\n",
        "    print(\"Error: The DataFrame does not contain a numeric column named 'Size'.\")"
      ],
      "metadata": {
        "id": "FZFXSupK6Xr_",
        "colab": {
          "base_uri": "https://localhost:8080/"
        },
        "outputId": "59d68a0c-ebca-412d-9dc7-50bf176bf626"
      },
      "execution_count": null,
      "outputs": [
        {
          "output_type": "stream",
          "name": "stdout",
          "text": [
            "p: 0.0\n",
            "------------------------------------------\n",
            "We reject the Null Hypothesis: The data is not normal.\n"
          ]
        }
      ]
    },
    {
      "cell_type": "code",
      "source": [
        "import pandas as pd\n",
        "from scipy.stats import shapiro, levene, ttest_ind\n",
        "\n",
        "# Load the dataset\n",
        "pizzas = pd.read_csv('pizzasize.csv')\n",
        "print(pizzas.head(10))\n",
        "\n",
        "# Set the level of significance\n",
        "alpha = 0.05\n",
        "\n",
        "# Defining Null and Alternative Hypotheses\n",
        "H0_normality = 'Data is Normally Distributed'\n",
        "Ha_normality = 'Data is not Normally Distributed'\n",
        "\n",
        "H0_variance = 'Variances are equal'\n",
        "Ha_variance = 'Variances are not equal'\n",
        "\n",
        "H0_difference = 'There is no significant difference.'\n",
        "Ha_difference = 'There is a significant difference.'"
      ],
      "metadata": {
        "id": "_pqFeiAx6cc9",
        "colab": {
          "base_uri": "https://localhost:8080/"
        },
        "outputId": "cd2d4693-901e-4aee-9f05-317ddad0d8c3"
      },
      "execution_count": null,
      "outputs": [
        {
          "output_type": "stream",
          "name": "stdout",
          "text": [
            "   ID      Store CrustDescription        Topping  Diameter\n",
            "0   1    Dominos      ThinNCrispy        Supreme     29.40\n",
            "1   2    Dominos      ThinNCrispy  BBQMeatlovers     29.63\n",
            "2   3    Dominos          DeepPan       Hawaiian     27.06\n",
            "3   4    Dominos      ThinNCrispy        Supreme     27.45\n",
            "4   5    Dominos     ClassicCrust       Hawaiian     26.59\n",
            "5   6    Dominos          DeepPan  BBQMeatlovers     27.16\n",
            "6   7  EagleBoys         MidCrust   SuperSupremo     29.15\n",
            "7   8  EagleBoys          DeepPan       Hawaiian     28.78\n",
            "8   9  EagleBoys        ThinCrust  BBQMeatlovers     30.05\n",
            "9  10  EagleBoys          DeepPan  BBQMeatlovers     29.38\n"
          ]
        }
      ]
    },
    {
      "cell_type": "code",
      "source": [
        "# Function to check normality using the Shapiro-Wilk test\n",
        "def check_normality(df):\n",
        "    for columnName, columnData in df.select_dtypes(include=['number']).items(): # Filter only numeric columns\n",
        "        print('\\n' + f\"* Shapiro Test Results of '{columnName}' *\")\n",
        "        p = round(shapiro(columnData)[1], 2)\n",
        "\n",
        "        if p > alpha:\n",
        "            print(f\"{p} > {alpha}. We fail to reject Null Hypothesis. '{columnName}' {H0_normality}\")\n",
        "        else:\n",
        "            print(f\"{p} <= {alpha}. We reject Null Hypothesis. '{columnName}' {Ha_normality}\")"
      ],
      "metadata": {
        "id": "cgMAUqp16mUO"
      },
      "execution_count": null,
      "outputs": []
    },
    {
      "cell_type": "code",
      "source": [
        "# Function to check variances using Levene's test\n",
        "def check_variances(df):\n",
        "    if 'Making Unit 1' in df.columns and 'Making Unit 2' in df.columns:\n",
        "        print(\"\\n** Variances Test Result **\")\n",
        "        p = round(levene(df['Making Unit 1'], df['Making Unit 2'])[1], 2)\n",
        "\n",
        "        if p > alpha:\n",
        "            print(f\"{p} > {alpha}. We fail to reject Null Hypothesis. {H0_variance}\")\n",
        "        else:\n",
        "            print(f\"{p} <= {alpha}. We reject Null Hypothesis. {Ha_variance}\")\n",
        "    else:\n",
        "        print(\"Error: Required columns 'Making Unit 1' and 'Making Unit 2' are not found in the DataFrame.\")"
      ],
      "metadata": {
        "id": "M6mM8_gX6n-2"
      },
      "execution_count": null,
      "outputs": []
    },
    {
      "cell_type": "code",
      "source": [
        "# Function to perform a two-sample t-test\n",
        "def t_test(df):\n",
        "    if 'Making Unit 1' in df.columns and 'Making Unit 2' in df.columns:\n",
        "        print(\"\\n** Two-Sample T-Test Result **\")\n",
        "        test_result = ttest_ind(df['Making Unit 1'], df['Making Unit 2'], equal_var=True)\n",
        "        p = round(test_result.pvalue, 2)\n",
        "\n",
        "        if p > alpha:\n",
        "            print(f\"{p} > {alpha}. We fail to reject Null Hypothesis. {H0_difference}\")\n",
        "        else:\n",
        "            print(f\"{p} <= {alpha}. We reject Null Hypothesis. {Ha_difference}\")\n",
        "    else:\n",
        "        print(\"Error: Required columns 'Making Unit 1' and 'Making Unit 2' are not found in the DataFrame.\")"
      ],
      "metadata": {
        "id": "XMFayyYZ6q6W"
      },
      "execution_count": null,
      "outputs": []
    },
    {
      "cell_type": "code",
      "source": [
        "# Running the tests\n",
        "check_normality(pizzas)\n",
        "print('------------------------------------------')\n",
        "check_variances(pizzas)\n",
        "print('------------------------------------------')\n",
        "t_test(pizzas)"
      ],
      "metadata": {
        "id": "7PYYUEzC6stm",
        "colab": {
          "base_uri": "https://localhost:8080/"
        },
        "outputId": "9148d00f-812e-42b0-84ce-30b992523fa0"
      },
      "execution_count": null,
      "outputs": [
        {
          "output_type": "stream",
          "name": "stdout",
          "text": [
            "\n",
            "* Shapiro Test Results of 'ID' *\n",
            "0.0 <= 0.05. We reject Null Hypothesis. 'ID' Data is not Normally Distributed\n",
            "\n",
            "* Shapiro Test Results of 'Diameter' *\n",
            "0.0 <= 0.05. We reject Null Hypothesis. 'Diameter' Data is not Normally Distributed\n",
            "------------------------------------------\n",
            "Error: Required columns 'Making Unit 1' and 'Making Unit 2' are not found in the DataFrame.\n",
            "------------------------------------------\n",
            "Error: Required columns 'Making Unit 1' and 'Making Unit 2' are not found in the DataFrame.\n"
          ]
        }
      ]
    },
    {
      "cell_type": "code",
      "source": [],
      "metadata": {
        "id": "LgVSLDTKyOQb"
      },
      "execution_count": null,
      "outputs": []
    }
  ]
}