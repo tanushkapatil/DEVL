{
  "nbformat": 4,
  "nbformat_minor": 0,
  "metadata": {
    "colab": {
      "provenance": [],
      "authorship_tag": "ABX9TyMqPtXx+g2nDdhbZCxkaRFb",
      "include_colab_link": true
    },
    "kernelspec": {
      "name": "python3",
      "display_name": "Python 3"
    },
    "language_info": {
      "name": "python"
    }
  },
  "cells": [
    {
      "cell_type": "markdown",
      "metadata": {
        "id": "view-in-github",
        "colab_type": "text"
      },
      "source": [
        "<a href=\"https://colab.research.google.com/github/tanushkapatil/DEVL/blob/main/assignment_1a.ipynb\" target=\"_parent\"><img src=\"https://colab.research.google.com/assets/colab-badge.svg\" alt=\"Open In Colab\"/></a>"
      ]
    },
    {
      "cell_type": "code",
      "source": [
        "def add(dict):\n",
        "    print(\"Enter key and value to be added: \")\n",
        "    addKey = input()\n",
        "    if addKey in dict:\n",
        "        print(f\"Student record already exists for key: {addKey}\")\n",
        "        return\n",
        "    addValue = float(input())\n",
        "\n",
        "    dict[addKey] = addValue\n",
        "\n",
        "    print(\"New dictionary is : \")\n",
        "    print(dict)\n",
        "\n",
        "def delete(dict):\n",
        "    print(\"Enter key to be deleted: \")\n",
        "    delKey = input()\n",
        "\n",
        "    del dict[delKey]\n",
        "\n",
        "    print(\"New dictionary is : \")\n",
        "    print(dict)\n",
        "\n",
        "def update(dict):\n",
        "    print(\"Enter key and value to be updated: \")\n",
        "    upKey = input()\n",
        "    upValue = float(input())\n",
        "\n",
        "    dict.update({upKey : upValue})\n",
        "\n",
        "    print(\"New dictionary is : \")\n",
        "    print(dict)\n",
        "\n",
        "def findMax(dict):\n",
        "    max_value = next(iter(dict.values()))\n",
        "    for i in dict.values():\n",
        "        if i > max_value:\n",
        "            max_value = i\n",
        "    max_keys = [key for key, value in dict.items() if value == max_value]\n",
        "\n",
        "    return max_keys, max_value\n",
        "\n",
        "\n",
        "dict = {\n",
        "    \"bob\" : 7.5,\n",
        "    \"jack\" : 8.3,\n",
        "    \"peter\" : 5.6,\n",
        "    \"jane\" : 9.15,\n",
        "    \"maria\" : 7.9,\n",
        "    \"mily\" : 7.6,\n",
        "    \"sam\" : 8.75,\n",
        "    \"joey\" : 4.6,\n",
        "    \"john\" : 9.56,\n",
        "    \"eve\" : 9.56\n",
        "}\n",
        "\n",
        "print(\"Initial dictionary : \")\n",
        "print(dict)\n",
        "add(dict)\n",
        "delete(dict)\n",
        "update(dict)\n",
        "keys, max_value = findMax(dict)\n",
        "\n",
        "if keys:\n",
        "    if len(keys) > 1:\n",
        "        print(\"Keys with maximum value:\", \", \".join(keys))\n",
        "    else:\n",
        "        print(\"Key with maximum value:\", keys[0])\n",
        "    print(\"Maximum value is:\", max_value)\n"
      ],
      "metadata": {
        "id": "GmBN6wGgblXs",
        "colab": {
          "base_uri": "https://localhost:8080/"
        },
        "outputId": "388bc9d3-0e5d-4112-9978-b78f10824740"
      },
      "execution_count": null,
      "outputs": [
        {
          "output_type": "stream",
          "name": "stdout",
          "text": [
            "Initial dictionary : \n",
            "{'bob': 7.5, 'jack': 8.3, 'peter': 5.6, 'jane': 9.15, 'maria': 7.9, 'mily': 7.6, 'sam': 8.75, 'joey': 4.6, 'john': 9.56, 'eve': 9.56}\n",
            "Enter key and value to be added: \n",
            "jacob\n",
            "8.22\n",
            "New dictionary is : \n",
            "{'bob': 7.5, 'jack': 8.3, 'peter': 5.6, 'jane': 9.15, 'maria': 7.9, 'mily': 7.6, 'sam': 8.75, 'joey': 4.6, 'john': 9.56, 'eve': 9.56, 'jacob': 8.22}\n",
            "Enter key to be deleted: \n",
            "bob\n",
            "New dictionary is : \n",
            "{'jack': 8.3, 'peter': 5.6, 'jane': 9.15, 'maria': 7.9, 'mily': 7.6, 'sam': 8.75, 'joey': 4.6, 'john': 9.56, 'eve': 9.56, 'jacob': 8.22}\n",
            "Enter key and value to be updated: \n",
            "eve\n",
            "9.78\n",
            "New dictionary is : \n",
            "{'jack': 8.3, 'peter': 5.6, 'jane': 9.15, 'maria': 7.9, 'mily': 7.6, 'sam': 8.75, 'joey': 4.6, 'john': 9.56, 'eve': 9.78, 'jacob': 8.22}\n",
            "Key with maximum value: eve\n",
            "Maximum value is: 9.78\n"
          ]
        }
      ]
    }
  ]
}