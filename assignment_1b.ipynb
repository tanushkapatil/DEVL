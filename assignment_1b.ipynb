{
  "cells": [
    {
      "cell_type": "markdown",
      "metadata": {
        "id": "view-in-github",
        "colab_type": "text"
      },
      "source": [
        "<a href=\"https://colab.research.google.com/github/tanushkapatil/DEVL/blob/main/assignment_1b.ipynb\" target=\"_parent\"><img src=\"https://colab.research.google.com/assets/colab-badge.svg\" alt=\"Open In Colab\"/></a>"
      ]
    },
    {
      "cell_type": "code",
      "execution_count": null,
      "id": "b88fa4cf-8947-4ef2-bc79-6e6a545e256c",
      "metadata": {
        "colab": {
          "base_uri": "https://localhost:8080/"
        },
        "id": "b88fa4cf-8947-4ef2-bc79-6e6a545e256c",
        "outputId": "722c4dbb-01c2-4c5f-b801-bd5f71ef1117"
      },
      "outputs": [
        {
          "output_type": "stream",
          "name": "stdout",
          "text": [
            "1. Creating list\n",
            "The original list is :  ['red', 'yellow', 'orange', 'gold', 'beige']\n",
            "\n",
            "\n",
            "2. Append\n",
            "Enter the name of colour to be added : brown\n",
            "The new list is :  ['red', 'yellow', 'orange', 'gold', 'beige', 'brown']\n",
            "\n",
            "\n",
            "3. Input using index\n",
            "Enter the index of colour to be added : 0\n",
            "Enter the colour to be added : silver\n",
            "The new list is :  ['silver', 'red', 'yellow', 'orange', 'gold', 'beige', 'brown']\n",
            "\n",
            "\n",
            "4 Access\n",
            "Enter the index of colour to be accessed : 1\n",
            "red\n",
            "\n",
            "\n",
            "5. Remove\n",
            "Enter the name of colour to be removed : silver\n",
            "The new list is :  ['red', 'yellow', 'orange', 'gold', 'beige', 'brown']\n",
            "\n",
            "\n",
            "6. Remove using index\n",
            "Enter the index of colour to be removed : 3\n",
            "The new list is :  ['red', 'yellow', 'orange', 'beige', 'brown']\n",
            "\n",
            "\n",
            "7. Modify\n",
            "Enter the index of colour to be modified : 0\n",
            "Enter the colour : redish\n",
            "\n",
            "\n",
            "8. Concatinate\n",
            "The new list is :  ['redish', 'yellow', 'orange', 'beige', 'brown', 'green', 'blue', 'purple']\n",
            "\n",
            "\n",
            "9. Repeating list\n",
            "The new list is :  ['redish', 'yellow', 'orange', 'beige', 'brown', 'green', 'blue', 'purple', 'redish', 'yellow', 'orange', 'beige', 'brown', 'green', 'blue', 'purple']\n",
            "\n",
            "\n",
            "10. Check Member\n",
            "Enter the colour : blue\n",
            "blue is in the list.\n",
            "\n",
            "\n",
            "11. Check length\n",
            "The length of list is :  8\n",
            "\n",
            "\n",
            "12. Basic slicing\n",
            "Enter the starting index : 2\n",
            "Enter the ending index : 7\n",
            "The new list is :  ['orange', 'beige', 'brown', 'green', 'blue']\n",
            "\n",
            "\n",
            "13. Reverse\n",
            "The new list is :  ['purple', 'blue', 'green', 'brown', 'beige', 'orange', 'yellow', 'redish']\n",
            "\n",
            "\n",
            "14. Using a step\n",
            "Enter the starting index : 2\n",
            "Enter the ending index : 9\n",
            "Enter the interval : 2\n",
            "The new list is :  ['green', 'beige', 'yellow']\n",
            "\n",
            "\n"
          ]
        }
      ],
      "source": [
        "warm_colours = ['red' , 'yellow' , 'orange' , 'gold' , 'beige']\n",
        "cool_colours = ['green' , 'blue' , 'purple']\n",
        "\n",
        "print(\"1. Creating list\")\n",
        "print(\"The original list is : \" , warm_colours)\n",
        "print(\"\\n\")\n",
        "\n",
        "print(\"2. Append\")\n",
        "a = input(\"Enter the name of colour to be added : \")\n",
        "warm_colours.append(a)\n",
        "print(\"The new list is : \" , warm_colours)\n",
        "print(\"\\n\")\n",
        "\n",
        "print(\"3. Input using index\")\n",
        "index = int(input(\"Enter the index of colour to be added : \"))\n",
        "color = input(\"Enter the colour to be added : \")\n",
        "warm_colours.insert(index,color)\n",
        "print(\"The new list is : \" , warm_colours)\n",
        "print(\"\\n\")\n",
        "\n",
        "print(\"4 Access\")\n",
        "index = int(input(\"Enter the index of colour to be accessed : \"))\n",
        "print(warm_colours[index])\n",
        "print(\"\\n\")\n",
        "\n",
        "print(\"5. Remove\")\n",
        "b = input(\"Enter the name of colour to be removed : \")\n",
        "warm_colours.remove(b)\n",
        "print(\"The new list is : \" , warm_colours)\n",
        "print(\"\\n\")\n",
        "\n",
        "print(\"6. Remove using index\")\n",
        "index = int(input(\"Enter the index of colour to be removed : \"))\n",
        "del warm_colours[index]\n",
        "print(\"The new list is : \" , warm_colours)\n",
        "print(\"\\n\")\n",
        "\n",
        "print(\"7. Modify\")\n",
        "index = int(input(\"Enter the index of colour to be modified : \"))\n",
        "color = input(\"Enter the colour : \")\n",
        "warm_colours[index] = color\n",
        "print(\"\\n\")\n",
        "\n",
        "print(\"8. Concatinate\")\n",
        "warm_colours.extend(cool_colours)\n",
        "print(\"The new list is : \" , warm_colours)\n",
        "print(\"\\n\")\n",
        "\n",
        "print(\"9. Repeating list\")\n",
        "list = warm_colours * 2\n",
        "print(\"The new list is : \" , list)\n",
        "print(\"\\n\")\n",
        "\n",
        "print(\"10. Check Member\")\n",
        "color = input(\"Enter the colour : \")\n",
        "if color in warm_colours:\n",
        "    print(f\"{color} is in the list.\")\n",
        "else:\n",
        "    print(f\"{color} is not in the list.\")\n",
        "print(\"\\n\")\n",
        "\n",
        "print(\"11. Check length\")\n",
        "a = len(warm_colours)\n",
        "print(\"The length of list is : \" , a)\n",
        "print(\"\\n\")\n",
        "\n",
        "print(\"12. Basic slicing\")\n",
        "a = int(input(\"Enter the starting index : \"))\n",
        "b = int(input(\"Enter the ending index : \"))\n",
        "print(\"The new list is : \" , warm_colours[a:b])\n",
        "print(\"\\n\")\n",
        "\n",
        "print(\"13. Reverse\")\n",
        "warm_colours.reverse()\n",
        "print(\"The new list is : \" , warm_colours)\n",
        "print(\"\\n\")\n",
        "\n",
        "print(\"14. Using a step\")\n",
        "a = int(input(\"Enter the starting index : \"))\n",
        "b = int(input(\"Enter the ending index : \"))\n",
        "c = int(input(\"Enter the interval : \"))\n",
        "print(\"The new list is : \" , warm_colours[a:b:c])\n",
        "print(\"\\n\")"
      ]
    },
    {
      "cell_type": "code",
      "execution_count": null,
      "id": "d457ad4b-c4d1-4b7f-b29b-bdac9f38b654",
      "metadata": {
        "id": "d457ad4b-c4d1-4b7f-b29b-bdac9f38b654",
        "outputId": "25082e08-eed7-42b3-8d20-a90bdf3ece04"
      },
      "outputs": [
        {
          "name": "stdout",
          "output_type": "stream",
          "text": [
            "12. Basic slicing\n"
          ]
        },
        {
          "name": "stdout",
          "output_type": "stream",
          "text": [
            "Enter the starting index :  2\n",
            "Enter the ending index :  7\n"
          ]
        },
        {
          "name": "stdout",
          "output_type": "stream",
          "text": [
            "The new list is :  ['red', 'yellow', 'orange', 'gold', 'beige', 'green', 'blue', 'purple', 'red', 'yellow', 'orange', 'gold', 'beige', 'green', 'blue', 'purple']\n"
          ]
        }
      ],
      "source": [
        "print(\"12. Basic slicing\")\n",
        "a = int(input(\"Enter the starting index : \"))\n",
        "b = int(input(\"Enter the ending index : \"))\n",
        "print(\"The new list is : \" , list)"
      ]
    }
  ],
  "metadata": {
    "kernelspec": {
      "display_name": "Python 3",
      "language": "python",
      "name": "python3"
    },
    "language_info": {
      "codemirror_mode": {
        "name": "ipython",
        "version": 3
      },
      "file_extension": ".py",
      "mimetype": "text/x-python",
      "name": "python",
      "nbconvert_exporter": "python",
      "pygments_lexer": "ipython3",
      "version": "3.13.0"
    },
    "colab": {
      "provenance": [],
      "include_colab_link": true
    }
  },
  "nbformat": 4,
  "nbformat_minor": 5
}